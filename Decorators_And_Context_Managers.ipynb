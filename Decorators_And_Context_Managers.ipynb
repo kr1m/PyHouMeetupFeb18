{
 "cells": [
  {
   "cell_type": "markdown",
   "metadata": {
    "slideshow": {
     "slide_type": "slide"
    }
   },
   "source": [
    "# Decorators and Context Managers \n",
    "# Python 3.6 (but all this stuff is available in 2.7)\n",
    "## PyHou Meetup Feb18\n",
    "---\n",
    "##### [Ryan Thielke ](https://www.linkedin.com/in/ryan-thielke-b987012a/) \n",
    "##### [Two Sigma ](https://www.twosigma.com) "
   ]
  },
  {
   "cell_type": "markdown",
   "metadata": {
    "slideshow": {
     "slide_type": "slide"
    }
   },
   "source": [
    "# Agenda\n",
    "---\n",
    "### 1) Decorators\n",
    "```python\n",
    "@deco\n",
    "def my_func():\n",
    "    pass\n",
    "```\n",
    "### 2) Context Managers\n",
    "```python\n",
    "with context_man() as cm:\n",
    "    do_stuff()\n",
    "```\n",
    "### 3) Q&A - But feel free to stop me at any time"
   ]
  },
  {
   "cell_type": "markdown",
   "metadata": {
    "slideshow": {
     "slide_type": "slide"
    }
   },
   "source": [
    "# Decorators\n",
    "---\n",
    "In Python, everything is an object. You are all very familiar with passing strings, ints, or floats to functions. But what about other functions? Decorators are just that, a convenient syntax for functions that accept and return functions. \n",
    "\n",
    "You might have seen these in:\n",
    "* classmethod / staticmethod annotations in class definitions\n",
    "* unittest skips and expected failures \n",
    "* asyncio coroutines\n",
    "* flask routes\n",
    "\n",
    "\n",
    "[For our classically trained computer scientists] It's similar but not exactly the GoF [decorator design patern](https://en.wikipedia.org/wiki/Decorator_pattern)."
   ]
  },
  {
   "cell_type": "code",
   "execution_count": null,
   "metadata": {
    "slideshow": {
     "slide_type": "slide"
    }
   },
   "outputs": [],
   "source": [
    "import time\n",
    "\n",
    "def timer(function): \n",
    "    \"\"\"\n",
    "        A decorator that will calculate the execution time of a function call\n",
    "    \"\"\"\n",
    "    def wrapper(*args, **kwargs): \n",
    "        start = time.time()\n",
    "        value = function(*args, **kwargs) \n",
    "        end = time.time()\n",
    "        print(\"{} took {} secs to execute\".format(function.__name__, end - start))\n",
    "        return value\n",
    "    return wrapper \n",
    "        "
   ]
  },
  {
   "cell_type": "code",
   "execution_count": null,
   "metadata": {
    "slideshow": {
     "slide_type": "fragment"
    }
   },
   "outputs": [],
   "source": [
    "@timer\n",
    "def my_func(n):\n",
    "    \"\"\"\n",
    "        Sleeps and then returns the input value\n",
    "    \"\"\"\n",
    "    time.sleep(.1 * n)\n",
    "    return n\n",
    "\n",
    "my_func(20)"
   ]
  },
  {
   "cell_type": "code",
   "execution_count": null,
   "metadata": {
    "slideshow": {
     "slide_type": "slide"
    }
   },
   "outputs": [],
   "source": [
    "# The decorator annotation is just nicer syntax for:\n",
    "def my_func1(n):\n",
    "    \"\"\"\n",
    "        Sleeps and then returns the input value\n",
    "    \"\"\"\n",
    "    time.sleep(.1 * n)\n",
    "    return n\n",
    "\n",
    "timer(my_func1)(20)\n",
    "timer_my_func1 = timer(my_func1)\n",
    "timer_my_func1(20)"
   ]
  },
  {
   "cell_type": "code",
   "execution_count": null,
   "metadata": {
    "slideshow": {
     "slide_type": "slide"
    }
   },
   "outputs": [],
   "source": [
    "# One problem...\n",
    "my_func??"
   ]
  },
  {
   "cell_type": "code",
   "execution_count": null,
   "metadata": {
    "slideshow": {
     "slide_type": "slide"
    }
   },
   "outputs": [],
   "source": [
    "from functools import wraps #Tools for higher-order functions\n",
    "\n",
    "def memo(function):\n",
    "    \"\"\"\n",
    "        Cache results of expensive function calls AKA memoize\n",
    "    \"\"\"\n",
    "    cache = {}\n",
    "    @wraps(function)\n",
    "    def wrapper(*args):\n",
    "        if args in cache.keys():\n",
    "            print(\"Retrieving value from the cache\")\n",
    "            return cache[args]\n",
    "        print(\"Calling {} to compute a new value\".format(function.__name__))\n",
    "        value = function(*args)\n",
    "        print(\"Saving in the cache\")\n",
    "        cache[args] = value\n",
    "        return value\n",
    "    return wrapper"
   ]
  },
  {
   "cell_type": "code",
   "execution_count": null,
   "metadata": {
    "slideshow": {
     "slide_type": "fragment"
    }
   },
   "outputs": [],
   "source": [
    "@memo\n",
    "def my_func2(n):\n",
    "    \"\"\"\n",
    "        A function used to sleep for 3 secs and then returns the input plus 10\n",
    "    \"\"\"\n",
    "    time.sleep(3)\n",
    "    return n + 10"
   ]
  },
  {
   "cell_type": "code",
   "execution_count": null,
   "metadata": {
    "slideshow": {
     "slide_type": "slide"
    }
   },
   "outputs": [],
   "source": [
    "# Take another look at the function man page\n",
    "my_func2??"
   ]
  },
  {
   "cell_type": "code",
   "execution_count": null,
   "metadata": {
    "slideshow": {
     "slide_type": "slide"
    }
   },
   "outputs": [],
   "source": [
    "%time my_func2(5)"
   ]
  },
  {
   "cell_type": "code",
   "execution_count": null,
   "metadata": {
    "slideshow": {
     "slide_type": "fragment"
    }
   },
   "outputs": [],
   "source": [
    "%time my_func2(10)"
   ]
  },
  {
   "cell_type": "code",
   "execution_count": null,
   "metadata": {
    "slideshow": {
     "slide_type": "fragment"
    }
   },
   "outputs": [],
   "source": [
    "%time my_func2(5)"
   ]
  },
  {
   "cell_type": "code",
   "execution_count": null,
   "metadata": {
    "slideshow": {
     "slide_type": "slide"
    }
   },
   "outputs": [],
   "source": [
    "def retry(max_attempts=5, sleep_time=5):\n",
    "    \"\"\"\n",
    "        This is a decorator that will call an \n",
    "        arbitrary function multiple times \n",
    "        with a small delay between each call\n",
    "        \n",
    "        Arguments:\n",
    "            max_attempts(int) -> maximum number of retries before throwing an error\n",
    "            sleep_time  (int) -> number of secs to sleep between each call\n",
    "    \"\"\"\n",
    "    def decorator(function):\n",
    "        \"\"\" This is actually the decorator \"\"\"\n",
    "        @wraps(function)\n",
    "        def wrapper(*args, **kwargs):\n",
    "            \"\"\" This is where the magic happens \"\"\"\n",
    "            for attempt in range(max_attempts):\n",
    "                try:\n",
    "                    return function(*args, **kwargs)\n",
    "                except Exception as e:\n",
    "                    print(\"[ERROR] Attempt {} of {}: {}\".format(attempt + 1, max_attempts, e))\n",
    "                    if attempt + 1 == max_attempts:\n",
    "                        raise e\n",
    "                    print(\"[ERROR] Retrying again in {} sec(s)\".format(sleep_time))\n",
    "                    time.sleep(sleep_time)\n",
    "        return wrapper\n",
    "    return decorator"
   ]
  },
  {
   "cell_type": "code",
   "execution_count": null,
   "metadata": {
    "slideshow": {
     "slide_type": "slide"
    }
   },
   "outputs": [],
   "source": [
    "#Slightly different syntax! \n",
    "@retry()\n",
    "def failure_func():\n",
    "    raise\n",
    "    \n",
    "failure_func()"
   ]
  },
  {
   "cell_type": "code",
   "execution_count": null,
   "metadata": {
    "slideshow": {
     "slide_type": "slide"
    }
   },
   "outputs": [],
   "source": [
    "global_var = 1\n",
    "\n",
    "@retry(max_attempts=3, sleep_time=3)\n",
    "def one_excep_then_success():\n",
    "    \"\"\"\n",
    "        Raise one exception and then return True\n",
    "    \"\"\"\n",
    "    global global_var\n",
    "    if global_var % 2 != 0:\n",
    "        global_var += 1\n",
    "        raise\n",
    "    return True\n",
    "\n",
    "one_excep_then_success()\n",
    "# decorator                          function                function arguments \n",
    "# retry(max_attempts=3, sleep_time=3)(one_excep_then_success)()"
   ]
  },
  {
   "cell_type": "code",
   "execution_count": null,
   "metadata": {
    "slideshow": {
     "slide_type": "slide"
    }
   },
   "outputs": [],
   "source": [
    "one_excep_then_success??"
   ]
  },
  {
   "cell_type": "markdown",
   "metadata": {
    "slideshow": {
     "slide_type": "slide"
    }
   },
   "source": [
    "# Context Managers\n",
    "---\n",
    "From [the Python docs](https://docs.python.org/2/reference/datamodel.html#with-statement-context-managers):\n",
    ">A context manager is an object that defines the runtime context to be established when executing a with statement. The context manager handles the entry into, and the exit from, the desired runtime context for the execution of the block of code. Context managers are normally invoked using the with statement (described in section The with statement), but can also be used by directly invoking their methods.\n",
    "\n",
    ">Typical uses of context managers include saving and restoring various kinds of global state, locking and unlocking resources, closing opened files, etc.\n",
    "\n",
    "You can also write context managers with generator expressions, but we will only look at the original protocol."
   ]
  },
  {
   "cell_type": "code",
   "execution_count": null,
   "metadata": {
    "slideshow": {
     "slide_type": "slide"
    }
   },
   "outputs": [],
   "source": [
    "with open(\"my_file.txt\", 'w') as f_out:\n",
    "    f_out.write(\"Hello, world!\\n\")\n",
    "    \n",
    "# Equivalent to \n",
    "# try:\n",
    "#     f_out = open(\"my_File.txt\", 'w')\n",
    "#     f_out.write(\"Hello, world!\\n\")\n",
    "#     ...\n",
    "# finally:\n",
    "#     f_out.close()\n",
    "\n",
    "!cat my_file.txt\n",
    "!rm my_file.txt"
   ]
  },
  {
   "cell_type": "code",
   "execution_count": null,
   "metadata": {
    "slideshow": {
     "slide_type": "slide"
    }
   },
   "outputs": [],
   "source": [
    "class code_block_timer:\n",
    "    def __init__(self):\n",
    "        pass\n",
    "    \n",
    "    def __enter__(self):\n",
    "        self.start = time.time()\n",
    "        \n",
    "    def __exit__(self, *excep):\n",
    "        self.end = time.time()\n",
    "        print(\"This code block took {} secs to execute\".format(self.end - self.start))"
   ]
  },
  {
   "cell_type": "code",
   "execution_count": null,
   "metadata": {
    "slideshow": {
     "slide_type": "slide"
    }
   },
   "outputs": [],
   "source": [
    "with code_block_timer():\n",
    "    my_func(10) # ~ 1 sec\n",
    "    my_func(10) # ~ 1 sec\n",
    "    my_func(20) # ~ 2 secs"
   ]
  },
  {
   "cell_type": "code",
   "execution_count": null,
   "metadata": {
    "slideshow": {
     "slide_type": "fragment"
    }
   },
   "outputs": [],
   "source": [
    "with code_block_timer() as cbt:\n",
    "    failure_func()\n",
    "    \n",
    "# if __enter__() executes without error\n",
    "# __exit__() is guaranteed to be called"
   ]
  },
  {
   "cell_type": "code",
   "execution_count": null,
   "metadata": {
    "slideshow": {
     "slide_type": "slide"
    }
   },
   "outputs": [],
   "source": [
    "class swallow_exception(object):\n",
    "    \"\"\"Will swallow the first exception and the program will continue\"\"\"\n",
    "    def __init__(self):\n",
    "        pass\n",
    "    \n",
    "    def __enter__(self):\n",
    "        pass\n",
    "    \n",
    "    def __exit__(self, e_type, e_val, trcbk):\n",
    "        \"\"\"\n",
    "            e_type (bool) -> if an exception occured during execution\n",
    "            e_val  (str)  -> value of the exception\n",
    "            trcbk         -> stack trace of the execption\n",
    "        \"\"\"\n",
    "        if e_type:\n",
    "            print(\"Gulp\")\n",
    "            print(\"That {} was tasty\".format(e_val))\n",
    "        # return a truthy value to suppress the exception\n",
    "        return True\n",
    "\n",
    "with swallow_exception():\n",
    "    failure_func()\n",
    "    print(\"I WONT PRINT\")\n",
    "    failure_func()\n",
    "print(\"\\nLet the program continue!\")"
   ]
  },
  {
   "cell_type": "code",
   "execution_count": null,
   "metadata": {
    "slideshow": {
     "slide_type": "slide"
    }
   },
   "outputs": [],
   "source": [
    "import os\n",
    "import sqlite3\n",
    "\n",
    "class start_transaction:\n",
    "    \"\"\"\n",
    "        A transaction context manger for interacting with a sqlite3 db\n",
    "        db and schema must already be created!\n",
    "    \"\"\"\n",
    "    def __init__(self, db_name):\n",
    "        self.db_name = db_name\n",
    "        \n",
    "    def __enter__(self):\n",
    "        if not os.path.exists(self.db_name):\n",
    "            raise RuntimeError(\"Please provide a created db\")\n",
    "        self.db = sqlite3.connect(self.db_name)\n",
    "        self.cursor = self.db.cursor()\n",
    "        print(\"Starting the transaction\")\n",
    "        return self.cursor # This will let you hook into the class\n",
    "    \n",
    "    def __exit__(self, e_type, e_val, trcbk):\n",
    "        if not e_type:\n",
    "            print(\"Looks good, commiting the transaction\")\n",
    "            self.db.commit()\n",
    "        else:\n",
    "            print(\"Whoops, something went wrong: {}\".format(e_val), 'Rolling back...', sep='\\n')\n",
    "            self.db.rollback()\n",
    "        self.db.close()\n",
    "        return True # Won't reraise the exception\n",
    "        "
   ]
  },
  {
   "cell_type": "code",
   "execution_count": null,
   "metadata": {
    "slideshow": {
     "slide_type": "slide"
    }
   },
   "outputs": [],
   "source": [
    "db_name = \"my_test.db\"\n",
    "\n",
    "conn = sqlite3.connect(db_name)\n",
    "conn.execute(\"create table pyhou_members(id integer primary key, name varchar(50))\")\n",
    "conn.commit()\n",
    "conn.close()\n",
    "\n",
    "!ls -la *.db"
   ]
  },
  {
   "cell_type": "code",
   "execution_count": null,
   "metadata": {
    "slideshow": {
     "slide_type": "slide"
    }
   },
   "outputs": [],
   "source": [
    "data_chunk1 = [(1, 'Ryan T'),\n",
    "               (2, 'David M'),\n",
    "               (3, 'Charlie H')]\n",
    "data_chunk2 = [(3, 'Decisio Health'), (4, 'Two Sigma')]\n",
    "\n",
    "print(\"Step1 Inserting data_chunk1\")\n",
    "with start_transaction(db_name) as transaction:\n",
    "    transaction.executemany(\"insert into pyhou_members(id, name) values (?,?)\", data_chunk1)\n",
    "    \n",
    "print(\"\\nStep2 Inserting data_chunk2\")\n",
    "with start_transaction(db_name) as transaction:\n",
    "    transaction.executemany(\"insert into pyhou_members(id, name) values (?,?)\", data_chunk2)\n",
    "\n",
    "print(\"\\nStep3 Retrieving data\")\n",
    "with start_transaction(db_name) as transaction:\n",
    "    members = transaction.execute(\"select * from pyhou_members\")\n",
    "    print(\"Current members: \")\n",
    "    for member in members.fetchall():\n",
    "        print('\\t', member)\n",
    "        \n",
    "os.remove(db_name)"
   ]
  },
  {
   "cell_type": "code",
   "execution_count": null,
   "metadata": {
    "slideshow": {
     "slide_type": "slide"
    }
   },
   "outputs": [],
   "source": [
    "from contextlib import ContextDecorator #So many cool Context Manager tools in this lib\n",
    "from datetime import datetime\n",
    "\n",
    "class stdout_redirect(ContextDecorator):\n",
    "    \"\"\"\n",
    "        A context manager used to highjack the regular print function. \n",
    "        \n",
    "        Any print function that is called within this context will write to stdout as well as a log file.\n",
    "        At the conclusion of the block, the print function is returned back to normal\n",
    "    \"\"\"\n",
    "    def __init__(self, log_filename=None):\n",
    "        default_name = datetime.now().strftime(\"%Y%m%d.log\")\n",
    "        self.log_filename = log_filename or default_name\n",
    "        \n",
    "    def __enter__(self):\n",
    "        global print\n",
    "        self.builtin_print = print\n",
    "        self.builtin_print(\"[INFO]: Redirecting stdout to {}\".format(self.log_filename))\n",
    "        \n",
    "        def redirect(*args, **kwargs):\n",
    "            \"\"\"Redirects stdout to a log file\"\"\"\n",
    "            sep = kwargs.get('sep', ' ')\n",
    "            end = kwargs.get('end', '\\n')\n",
    "            with open(self.log_filename, 'a') as my_log:\n",
    "                self.builtin_print(*args)\n",
    "                my_log.write(sep.join(args) + end)\n",
    "        \n",
    "        print = redirect\n",
    "        \n",
    "    def __exit__(self, *exc):\n",
    "        global print\n",
    "        print = self.builtin_print\n",
    "        print(\"[INFO]: No longer redirecting stdout\")\n",
    "        "
   ]
  },
  {
   "cell_type": "code",
   "execution_count": null,
   "metadata": {
    "slideshow": {
     "slide_type": "slide"
    }
   },
   "outputs": [],
   "source": [
    "print(\"This is not in the log\\n\")\n",
    "\n",
    "with stdout_redirect(\"my_log.txt\"):\n",
    "    print(\"Informative print statement #1\")\n",
    "    print(\"Informative print statement #2\")\n",
    "    \n",
    "print(\"\\nThis should not be in the log\\n\")\n",
    "\n",
    "!echo \"-----------\"\n",
    "!ls -lh my_log.txt\n",
    "!echo \"-----------\"\n",
    "!cat my_log.txt\n",
    "!rm my_log.txt"
   ]
  },
  {
   "cell_type": "code",
   "execution_count": null,
   "metadata": {
    "slideshow": {
     "slide_type": "slide"
    }
   },
   "outputs": [],
   "source": [
    "@stdout_redirect()\n",
    "def my_greeter(name):\n",
    "    print(\"Hello, {}!\".format(name))\n",
    "\n",
    "print(\"This should not be in the log \\n\")\n",
    "\n",
    "my_greeter(\"Ryan\")\n",
    "\n",
    "print(\"\\nThis should not be in the log\\n\")\n",
    "\n",
    "!echo \"-----------\"\n",
    "!ls -lh $(date +\"%Y%m%d\").log\n",
    "!echo \"-----------\"\n",
    "!cat $(date +\"%Y%m%d\").log\n",
    "!rm $(date +\"%Y%m%d\").log"
   ]
  },
  {
   "cell_type": "markdown",
   "metadata": {
    "collapsed": true,
    "slideshow": {
     "slide_type": "slide"
    }
   },
   "source": [
    "##  Standard lib package docs\n",
    "[Python 3.6 functools docs](https://docs.python.org/3/library/functools.html)\n",
    "\n",
    "[Python 3.6 contextlib docs](https://docs.python.org/3/library/contextlib.html)"
   ]
  },
  {
   "cell_type": "markdown",
   "metadata": {
    "slideshow": {
     "slide_type": "slide"
    }
   },
   "source": [
    "## Any questions?"
   ]
  }
 ],
 "metadata": {
  "celltoolbar": "Slideshow",
  "kernelspec": {
   "display_name": "Python 3",
   "language": "python",
   "name": "python3"
  },
  "language_info": {
   "codemirror_mode": {
    "name": "ipython",
    "version": 3
   },
   "file_extension": ".py",
   "mimetype": "text/x-python",
   "name": "python",
   "nbconvert_exporter": "python",
   "pygments_lexer": "ipython3",
   "version": "3.6.1"
  }
 },
 "nbformat": 4,
 "nbformat_minor": 2
}
